{
  "nbformat": 4,
  "nbformat_minor": 0,
  "metadata": {
    "colab": {
      "provenance": [],
      "authorship_tag": "ABX9TyN1AhriRp8GzCAwBVkpDOjG",
      "include_colab_link": true
    },
    "kernelspec": {
      "name": "python3",
      "display_name": "Python 3"
    },
    "language_info": {
      "name": "python"
    }
  },
  "cells": [
    {
      "cell_type": "markdown",
      "metadata": {
        "id": "view-in-github",
        "colab_type": "text"
      },
      "source": [
        "<a href=\"https://colab.research.google.com/github/rswijesena/AI/blob/main/Advance_OpenAI_Function.ipynb\" target=\"_parent\"><img src=\"https://colab.research.google.com/assets/colab-badge.svg\" alt=\"Open In Colab\"/></a>"
      ]
    },
    {
      "cell_type": "code",
      "source": [
        "!pip install openai\n",
        "!pip install panda\n",
        "!pip install pip install langchain"
      ],
      "metadata": {
        "collapsed": true,
        "id": "TZn48F-hk4sK"
      },
      "execution_count": null,
      "outputs": []
    },
    {
      "cell_type": "code",
      "execution_count": 71,
      "metadata": {
        "id": "Su4md1GokAs6"
      },
      "outputs": [],
      "source": [
        "import openai\n",
        "from openai import OpenAI\n",
        "\n",
        "openAIKey=\"\"\n",
        "\n",
        "client = OpenAI(api_key=openAIKey)\n",
        "\n",
        "function_description = [\n",
        "    {\n",
        "        \"name\": \"get_flight_info\",\n",
        "        \"description\": \"Get the next flight from delhi to mumbai\",\n",
        "        \"parameters\": {\n",
        "            \"type\": \"object\",\n",
        "            \"properties\": {\n",
        "                \"from\": {\"type\": \"string\", \"description\": \"The depature airport e.g DEL\"},\n",
        "                \"to\": {\"type\": \"string\", \"description\": \"The destination airport e.g SYD\"},\n",
        "                \"date\": {\"type\": \"string\"},\n",
        "            },\n",
        "            \"required\": [\"from\", \"to\"],\n",
        "        },\n",
        "    }\n",
        "]"
      ]
    },
    {
      "cell_type": "code",
      "source": [
        "user_prompt = \"When's the next flight from Jaffna to Sydney? \""
      ],
      "metadata": {
        "id": "snWwnX20mCUk"
      },
      "execution_count": 72,
      "outputs": []
    },
    {
      "cell_type": "code",
      "source": [
        "response2 = client.chat.completions.create(\n",
        "    model=\"gpt-3.5-turbo\",\n",
        "    messages=[\n",
        "        {\n",
        "            \"role\": \"user\",\n",
        "            \"content\": user_prompt\n",
        "        }\n",
        "    ],\n",
        "    #Add function calling\n",
        "    functions=function_description,\n",
        "    function_call=\"auto\" # specify the function call\n",
        "\n",
        ")"
      ],
      "metadata": {
        "id": "OeEhOH4imi5s"
      },
      "execution_count": 77,
      "outputs": []
    },
    {
      "cell_type": "code",
      "source": [
        "origin = json.loads(response2.choices[0].message.function_call.arguments).get(\"from\")\n",
        "destination = json.loads(response2.choices[0].message.function_call.arguments).get(\"to\")"
      ],
      "metadata": {
        "id": "Tp62P0ZwvisW"
      },
      "execution_count": 82,
      "outputs": []
    },
    {
      "cell_type": "code",
      "source": [
        "import json\n",
        "from datetime import datetime, timedelta\n",
        "def get_flight_info(from_airport, to_airport):\n",
        "  \"\"\"Get Flight information between two airports\"\"\"\n",
        "  #Example out put\n",
        "  print(f\"From airport {from_airport}\")\n",
        "  print(f\"To airport: {to_airport}\")\n",
        "  flight_info = {\n",
        "      \"from_airport\": from_airport,\n",
        "      \"to_airport\": to_airport,\n",
        "      \"date\": str(datetime.now() + timedelta(hours=2)),\n",
        "      \"airline\" : \"Qantas\",\n",
        "      \"flight_number\": \"QF466\"\n",
        "  }\n",
        "  return json.dumps(flight_info)"
      ],
      "metadata": {
        "id": "rRLxpytMzE08"
      },
      "execution_count": 73,
      "outputs": []
    },
    {
      "cell_type": "code",
      "source": [
        "response3 = client.chat.completions.create(\n",
        "    model=\"gpt-3.5-turbo\",\n",
        "    messages=[\n",
        "        {\n",
        "            \"role\": \"user\",\n",
        "            \"content\": user_prompt\n",
        "        },\n",
        "        {\n",
        "            \"role\": \"function\",\n",
        "            \"name\": \"get_flight_info\",\n",
        "            \"content\": get_flight_info(origin, destination)\n",
        "        }\n",
        "    ],\n",
        "    #Add function calling\n",
        "    functions=function_description,\n",
        "    function_call=\"auto\" # specify the function call\n",
        "\n",
        ")\n",
        "\n",
        "response3.choices[0].message.content"
      ],
      "metadata": {
        "colab": {
          "base_uri": "https://localhost:8080/",
          "height": 89
        },
        "id": "tcS3jSSW4hJA",
        "outputId": "f46757a0-5cf1-4999-a249-84ede6e4ac56"
      },
      "execution_count": 83,
      "outputs": [
        {
          "output_type": "stream",
          "name": "stdout",
          "text": [
            "From airport JAF\n",
            "To airport: SYD\n"
          ]
        },
        {
          "output_type": "execute_result",
          "data": {
            "text/plain": [
              "'The next flight from Jaffna to Sydney is on May 14, 2024, with Qantas airline. The flight number is QF466.'"
            ],
            "application/vnd.google.colaboratory.intrinsic+json": {
              "type": "string"
            }
          },
          "metadata": {},
          "execution_count": 83
        }
      ]
    }
  ]
}