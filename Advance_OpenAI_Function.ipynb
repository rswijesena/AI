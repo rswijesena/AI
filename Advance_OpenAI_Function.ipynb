{
  "nbformat": 4,
  "nbformat_minor": 0,
  "metadata": {
    "colab": {
      "provenance": [],
      "authorship_tag": "ABX9TyNZ7vKCS8JxAHCuSuDYwB/j",
      "include_colab_link": true
    },
    "kernelspec": {
      "name": "python3",
      "display_name": "Python 3"
    },
    "language_info": {
      "name": "python"
    }
  },
  "cells": [
    {
      "cell_type": "markdown",
      "metadata": {
        "id": "view-in-github",
        "colab_type": "text"
      },
      "source": [
        "<a href=\"https://colab.research.google.com/github/rswijesena/AI/blob/main/Advance_OpenAI_Function.ipynb\" target=\"_parent\"><img src=\"https://colab.research.google.com/assets/colab-badge.svg\" alt=\"Open In Colab\"/></a>"
      ]
    },
    {
      "cell_type": "code",
      "source": [
        "!pip install openai\n",
        "!pip install panda\n",
        "!pip install pip install langchain"
      ],
      "metadata": {
        "collapsed": true,
        "id": "TZn48F-hk4sK"
      },
      "execution_count": null,
      "outputs": []
    },
    {
      "cell_type": "code",
      "execution_count": 43,
      "metadata": {
        "id": "Su4md1GokAs6"
      },
      "outputs": [],
      "source": [
        "import openai\n",
        "from openai import OpenAI\n",
        "\n",
        "openAIKey=\"OPEN_API_KEY\"\n",
        "\n",
        "client = OpenAI(api_key=openAIKey)\n",
        "\n",
        "function_description = [\n",
        "    {\n",
        "        \"name\": \"get_flight_info\",\n",
        "        \"description\": \"Get the next flight from delhi to mumbai\",\n",
        "        \"parameters\": {\n",
        "            \"type\": \"object\",\n",
        "            \"properties\": {\n",
        "                \"from\": {\"type\": \"string\", \"description\": \"The depature airport e.g DEL\"},\n",
        "                \"to\": {\"type\": \"string\", \"description\": \"The destination airport e.g SYD\"},\n",
        "                \"date\": {\"type\": \"string\"},\n",
        "            },\n",
        "            \"required\": [\"from\", \"to\"],\n",
        "        },\n",
        "    }\n",
        "]"
      ]
    },
    {
      "cell_type": "code",
      "source": [
        "user_prompt = \"When's the next flight from Colombo to Sydney? \""
      ],
      "metadata": {
        "id": "snWwnX20mCUk"
      },
      "execution_count": 44,
      "outputs": []
    },
    {
      "cell_type": "code",
      "source": [],
      "metadata": {
        "id": "OeEhOH4imi5s"
      },
      "execution_count": 44,
      "outputs": []
    },
    {
      "cell_type": "code",
      "source": [
        "respones2"
      ],
      "metadata": {
        "colab": {
          "base_uri": "https://localhost:8080/"
        },
        "collapsed": true,
        "id": "7hUgKAelfjgO",
        "outputId": "d135aee4-65f0-4685-a5d6-9aa46cf05582"
      },
      "execution_count": 45,
      "outputs": [
        {
          "output_type": "execute_result",
          "data": {
            "text/plain": [
              "ChatCompletion(id='chatcmpl-9Oim8d0N18nRer2PNTYmaxNn9xYGl', choices=[Choice(finish_reason='function_call', index=0, logprobs=None, message=ChatCompletionMessage(content=None, role='assistant', function_call=FunctionCall(arguments='{\"from\":\"CMB\",\"to\":\"SYD\"}', name='get_flight_info'), tool_calls=None))], created=1715679016, model='gpt-3.5-turbo-0125', object='chat.completion', system_fingerprint=None, usage=CompletionUsage(completion_tokens=21, prompt_tokens=89, total_tokens=110))"
            ]
          },
          "metadata": {},
          "execution_count": 45
        }
      ]
    },
    {
      "cell_type": "code",
      "source": [
        "import json\n",
        "from datetime import datetime, timedelta\n",
        "def get_flight_info(from_airport, to_airport):\n",
        "  \"\"\"Get Flight information between two airports\"\"\"\n",
        "  #Example out put\n",
        "\n",
        "  flight_info = {\n",
        "      \"from_airport\": from_airport,\n",
        "      \"to_airport\": to_airport,\n",
        "      \"date\": str(datetime.now() + timedelta(hours=2)),\n",
        "      \"airline\" : \"Qantas\",\n",
        "      \"flight_number\": \"QF466\"\n",
        "  }\n",
        "  return json.dumps(flight_info)"
      ],
      "metadata": {
        "id": "rRLxpytMzE08"
      },
      "execution_count": 46,
      "outputs": []
    },
    {
      "cell_type": "code",
      "source": [
        "origin = json.loads(respones2.choices[0].message.function_call.arguments).get(\"from\")\n",
        "destination = json.loads(respones2.choices[0].message.function_call.arguments).get(\"to\")\n",
        "\n",
        "origin,destination"
      ],
      "metadata": {
        "colab": {
          "base_uri": "https://localhost:8080/"
        },
        "id": "mE-V0XVg28SD",
        "outputId": "eb180221-0542-4d4d-a918-5e4360411290"
      },
      "execution_count": 47,
      "outputs": [
        {
          "output_type": "execute_result",
          "data": {
            "text/plain": [
              "('CMB', 'SYD')"
            ]
          },
          "metadata": {},
          "execution_count": 47
        }
      ]
    },
    {
      "cell_type": "code",
      "source": [
        "response3 = client.chat.completions.create(\n",
        "    model=\"gpt-3.5-turbo\",\n",
        "    messages=[\n",
        "        {\n",
        "            \"role\": \"user\",\n",
        "            \"content\": user_prompt\n",
        "        },\n",
        "        {\n",
        "            \"role\": \"function\",\n",
        "            \"name\": \"get_flight_info\",\n",
        "            \"content\": get_flight_info(origin, destination)\n",
        "        }\n",
        "    ],\n",
        "    #Add function calling\n",
        "    functions=function_description,\n",
        "    function_call=\"auto\" # specify the function call\n",
        "\n",
        ")\n",
        "\n",
        "response3.choices[0].message.content"
      ],
      "metadata": {
        "colab": {
          "base_uri": "https://localhost:8080/",
          "height": 53
        },
        "id": "tcS3jSSW4hJA",
        "outputId": "bc1d3d41-5cf6-42b2-8cd1-d254bca6c0bc"
      },
      "execution_count": 48,
      "outputs": [
        {
          "output_type": "execute_result",
          "data": {
            "text/plain": [
              "'The next flight from Colombo (CMB) to Sydney (SYD) is on May 14, 2024. The flight is operated by Qantas with the flight number QF466.'"
            ],
            "application/vnd.google.colaboratory.intrinsic+json": {
              "type": "string"
            }
          },
          "metadata": {},
          "execution_count": 48
        }
      ]
    }
  ]
}