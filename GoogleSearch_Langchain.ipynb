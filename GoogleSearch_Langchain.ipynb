{
  "nbformat": 4,
  "nbformat_minor": 0,
  "metadata": {
    "colab": {
      "provenance": [],
      "authorship_tag": "ABX9TyPqAtt7yHqeX4e1/XgLY9+i",
      "include_colab_link": true
    },
    "kernelspec": {
      "name": "python3",
      "display_name": "Python 3"
    },
    "language_info": {
      "name": "python"
    }
  },
  "cells": [
    {
      "cell_type": "markdown",
      "metadata": {
        "id": "view-in-github",
        "colab_type": "text"
      },
      "source": [
        "<a href=\"https://colab.research.google.com/github/rswijesena/AI/blob/main/GoogleSearch_Langchain.ipynb\" target=\"_parent\"><img src=\"https://colab.research.google.com/assets/colab-badge.svg\" alt=\"Open In Colab\"/></a>"
      ]
    },
    {
      "cell_type": "code",
      "execution_count": null,
      "metadata": {
        "id": "z1Sk6FZ1hqI9"
      },
      "outputs": [],
      "source": [
        "!pip install langchain\n",
        "!pip install -U langchain-google-community\n"
      ]
    },
    {
      "cell_type": "code",
      "source": [
        "import os\n",
        "\n",
        "os.environ[\"GOOGLE_API_KEY\"] = \"\""
      ],
      "metadata": {
        "id": "ek4-3_wLhz0w"
      },
      "execution_count": 8,
      "outputs": []
    },
    {
      "cell_type": "code",
      "source": [
        "from langchain_google_community import GoogleSearchAPIWrapper\n",
        "from langchain_core.tools import Tool\n",
        "import os\n",
        "\n",
        "import inspect\n",
        "\n",
        "# Get the constructor of GoogleSearchAPIWrapper\n",
        "constructor = inspect.signature(GoogleSearchAPIWrapper)\n",
        "\n",
        "# Print the number of parameters it expects\n",
        "print(f\"Number of parameters expected: {len(constructor.parameters)}\")\n",
        "\n",
        "api_key = os.environ.get(\"GOOGLE_API_KEY\")\n",
        "\n",
        "search = GoogleSearchAPIWrapper()\n",
        "\n",
        "# Create a Tool object using the GoogleSearchAPIWrapper instance\n",
        "tool = Tool(\n",
        "    name=\"Google Search\",\n",
        "    description=\"Search Google for recent results.\",\n",
        "    func=search.run,\n",
        ")\n",
        "\n",
        "# Use the tool to perform a search\n",
        "results = tool.run(\"What is the capital of France?\")\n",
        "\n",
        "print(results)"
      ],
      "metadata": {
        "colab": {
          "base_uri": "https://localhost:8080/"
        },
        "id": "rvgkTDIWh1ka",
        "outputId": "520e40fd-b64e-41be-fda5-ba82ec333e4e"
      },
      "execution_count": 9,
      "outputs": [
        {
          "output_type": "stream",
          "name": "stdout",
          "text": [
            "Number of parameters expected: 5\n",
            "Paris is the capital and most populous city of France. Situated on the Seine River, in the north of the country, it is in the centre of the Île-de-France ... Paris is the capital and most populous city of France. With an official estimated population of 2,102,650 residents as of 1 January 2023 in an area of more ... Paris is the capital of France, the largest country of Europe with 550 000 km2 (65 millions inhabitants). Paris has 2.234 million inhabitants end 2011 ... France, a country of northwestern Europe, is historically and culturally among the most important countries in the Western world. France is a unitary semi-presidential republic with its capital in Paris ... France, Regional natural parks of France, and Climate change in France. France ... Athough Paris never ceased to be the official capital, the decision made Versailles the de facto centre of the kingdom until 1789. Above all, and to the great ... Jan 6, 2023 ... Where to Eat in Lyon. There are 91 MICHELIN Guide restaurants in Lyon, from Bib Gourmand to Two Stars. For a more traditional bouchon experience ... Jul 12, 2023 ... The Chatillon-sur-Chalaronne legacy of helping to protect first responders is nearly as old as the Tour de France. The MSA Gallet helmet brand ... Oct 28, 2019 ... Lyon is well known as the city has been called the gastronomic capital of France. Located between Paris and South Of France, Lyon is a ... Jul 20, 2016 ... Discover the Chocolate Capital of France. Cocoa hits all the sweet notes in the Basque town of Bayonne. ... The sweet scent of chocolate floats on ...\n"
          ]
        }
      ]
    }
  ]
}