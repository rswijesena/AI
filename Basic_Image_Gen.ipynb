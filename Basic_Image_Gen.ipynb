{
  "nbformat": 4,
  "nbformat_minor": 0,
  "metadata": {
    "colab": {
      "provenance": [],
      "authorship_tag": "ABX9TyOhVoXzH8hmcSR7Ki6vmMQm",
      "include_colab_link": true
    },
    "kernelspec": {
      "name": "python3",
      "display_name": "Python 3"
    },
    "language_info": {
      "name": "python"
    }
  },
  "cells": [
    {
      "cell_type": "markdown",
      "metadata": {
        "id": "view-in-github",
        "colab_type": "text"
      },
      "source": [
        "<a href=\"https://colab.research.google.com/github/rswijesena/AI/blob/main/Basic_Image_Gen.ipynb\" target=\"_parent\"><img src=\"https://colab.research.google.com/assets/colab-badge.svg\" alt=\"Open In Colab\"/></a>"
      ]
    },
    {
      "cell_type": "code",
      "execution_count": 1,
      "metadata": {
        "id": "KYKQVVfSH4Sc"
      },
      "outputs": [],
      "source": [
        "# import the libraries\n",
        "import torch, pdb\n",
        "from torch.utils.data import DataLoader\n",
        "from torch import nn\n",
        "from torchvision import transforms\n",
        "from torchvision.datasets import MNIST\n",
        "from torchvision.utils import make_grid\n",
        "from tqdm.auto import tqdm\n",
        "import matplotlib.pyplot as plt\n"
      ]
    },
    {
      "cell_type": "code",
      "source": [
        "# visualization function\n",
        "def show(tensor, ch=1, size=(28,28), num=16):\n",
        "  # tensor 128 x 784\n",
        "  data = tensor.detach().cpu().view(-1, ch, *size)\n",
        "  grid = make_grid(data[:num], nrows = 4).permute(1,2,0)\n",
        "  plt.imshow(grid)\n",
        "  plt.show()\n"
      ],
      "metadata": {
        "id": "i8fkEZhcKcHj"
      },
      "execution_count": 2,
      "outputs": []
    },
    {
      "cell_type": "code",
      "source": [
        "# setup if the main parameters and hyperparameters\n",
        "epochs = 300"
      ],
      "metadata": {
        "id": "pxLjv98IR4UG"
      },
      "execution_count": null,
      "outputs": []
    }
  ]
}